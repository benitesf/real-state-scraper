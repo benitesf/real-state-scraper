{
 "cells": [
  {
   "cell_type": "code",
   "execution_count": 106,
   "metadata": {},
   "outputs": [],
   "source": [
    "import scraper\n",
    "import re\n",
    "import json"
   ]
  },
  {
   "cell_type": "code",
   "execution_count": 3,
   "metadata": {},
   "outputs": [],
   "source": [
    "base_url = \"https://urbania.pe\"\n",
    "action = {\"find\": \"buscar\"}\n",
    "mode = {\"sale\":    \"venta-de-propiedades-en-\",\n",
    "        \"rental\": \"alquiler-de-propiedades-en-\",\n",
    "        \"temporal\": \"alquiler-temporal-de-propiedades-en-\",\n",
    "        \"project\": {\n",
    "            \"all\": \"proyectos-departamentos\",\n",
    "            \"pre-sale-plan\": \"proyectos-departamentos?devStage=59\",\n",
    "            \"pre-sale-building\": \"proyectos-departamentos?devStage=60\",\n",
    "            \"pre-sale-premiere\": \"proyectos-departamentos?devStage=61\"\n",
    "         }}\n",
    "location = {\n",
    "    \"AMA\": \"amazonas\",\n",
    "    \"ANC\": \"ancash\",\n",
    "    \"APU\": \"apurimac\",\n",
    "    \"ARE\": \"arequipa\",\n",
    "    \"AYA\": \"ayacucho\",\n",
    "    \"CAJ\": \"cajamarca\",\n",
    "    \"CAL\": \"callao\",\n",
    "    \"CUS\": \"cusco\",\n",
    "    \"HUC\": \"huanuco\",\n",
    "    \"HUV\": \"huancavelica\",\n",
    "    \"ICA\": \"ica\",\n",
    "    \"JUN\": \"junin\",\n",
    "    \"LAL\": \"la-libertad\",\n",
    "    \"LAM\": \"lambayeque\",\n",
    "    \"LIM\": \"lima\",\n",
    "    \"LOR\": \"loreto\",\n",
    "    \"MDD\": \"madre-de-dios\",\n",
    "    \"MOQ\": \"moquegua\",\n",
    "    \"PAS\": \"pasco\",\n",
    "    \"PIU\": \"piura\",\n",
    "    \"PUN\": \"puno\",\n",
    "    \"SAM\": \"san-martin\",\n",
    "    \"TAC\": \"tacna\",\n",
    "    \"TUM\": \"tumbes\",\n",
    "    \"UCA\": \"ucayali\"\n",
    "}"
   ]
  },
  {
   "cell_type": "code",
   "execution_count": 4,
   "metadata": {},
   "outputs": [],
   "source": [
    "url = base_url + \"/\" + action[\"find\"] + \"/\" + mode[\"sale\"] + location[\"LIM\"]"
   ]
  },
  {
   "cell_type": "code",
   "execution_count": 5,
   "metadata": {},
   "outputs": [
    {
     "name": "stdout",
     "output_type": "stream",
     "text": [
      "https://urbania.pe/buscar/venta-de-propiedades-en-lima?page=995\n",
      "https://urbania.pe/buscar/venta-de-propiedades-en-lima?page=996\n"
     ]
    }
   ],
   "source": [
    "pages = [p for p in scraper.get_next_page(url)]"
   ]
  },
  {
   "cell_type": "code",
   "execution_count": 6,
   "metadata": {},
   "outputs": [],
   "source": [
    "post_pages = []\n",
    "links = []\n",
    "for page in pages:\n",
    "    posts = scraper.get_postings(page)\n",
    "    for post in posts:\n",
    "        p_link = scraper.get_post_link(post)\n",
    "        if p_link is None:\n",
    "            continue\n",
    "        if 'proyecto' in p_link:\n",
    "            continue\n",
    "        p_link = base_url + p_link\n",
    "        links.append(p_link)\n",
    "        #post_pages.append(scraper.get_page(p_link))\n",
    "        # extract info post\n",
    "            # title container data\n",
    "            # description container data\n",
    "            # general container data\n",
    "            # publisher data\n",
    "            # sidebar data\n",
    "            # images\n",
    "            # We can extract more info as\n",
    "            # - ciudad, provincia, tipoOperacion, tipoPropiedad\n",
    "            # - address, neighborhood\n",
    "        # save info post"
   ]
  },
  {
   "cell_type": "code",
   "execution_count": 7,
   "metadata": {},
   "outputs": [],
   "source": [
    "post = scraper.get_page(links[0])"
   ]
  }
 ],
 "metadata": {
  "kernelspec": {
   "display_name": "Python 3",
   "language": "python",
   "name": "python3"
  },
  "language_info": {
   "codemirror_mode": {
    "name": "ipython",
    "version": 3
   },
   "file_extension": ".py",
   "mimetype": "text/x-python",
   "name": "python",
   "nbconvert_exporter": "python",
   "pygments_lexer": "ipython3",
   "version": "3.7.9"
  }
 },
 "nbformat": 4,
 "nbformat_minor": 4
}
